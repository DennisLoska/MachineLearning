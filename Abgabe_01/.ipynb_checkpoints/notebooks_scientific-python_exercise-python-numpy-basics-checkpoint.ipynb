{
 "cells": [
  {
   "cell_type": "markdown",
   "metadata": {
    "slideshow": {
     "slide_type": "-"
    }
   },
   "source": [
    "# ML-Fundamentals - Python Numpy Basics"
   ]
  },
  {
   "cell_type": "markdown",
   "metadata": {
    "slideshow": {
     "slide_type": "-"
    }
   },
   "source": [
    "## Table of Contents\n",
    "* [Introduction](#Introduction)\n",
    "* [Requirements](#Requirements) \n",
    "  * [Knowledge](#Knowledge) \n",
    "  * [Modules](#Python-Modules)\n",
    "* [Exercises](#Exercises)\n",
    "* [Summary and Outlook](#Summary-and-Outlook)\n",
    "* [Literature](#Literature) \n",
    "* [Licenses](#Licenses)"
   ]
  },
  {
   "cell_type": "markdown",
   "metadata": {
    "slideshow": {
     "slide_type": "-"
    }
   },
   "source": [
    "## Introduction\n",
    "\n",
    "In this exercise you will learn numpy operations / features, which you will need throughout nearly all data science tasks, when working with python."
   ]
  },
  {
   "cell_type": "markdown",
   "metadata": {
    "slideshow": {
     "slide_type": "-"
    }
   },
   "source": [
    "## Requirements\n",
    "### Knowledge\n",
    "\n",
    "You should have a basic knowledge of:\n",
    "- numpy\n",
    "\n",
    "Suitable sources for acquiring this knowledge are:\n",
    "- [numpy quickstart](https://docs.scipy.org/doc/numpy-1.15.1/user/quickstart.html)\n",
    "- [numpy slicing](https://docs.scipy.org/doc/numpy/reference/arrays.indexing.html)"
   ]
  },
  {
   "cell_type": "markdown",
   "metadata": {
    "slideshow": {
     "slide_type": "-"
    }
   },
   "source": [
    "### Python Modules\n",
    "\n",
    "By [deep.TEACHING](https://www.deep-teaching.org/) convention, all python modules needed to run the notebook are loaded centrally at the beginning. \n"
   ]
  },
  {
   "cell_type": "code",
   "execution_count": 1,
   "metadata": {
    "slideshow": {
     "slide_type": "-"
    }
   },
   "outputs": [],
   "source": [
    "# External Modules\n",
    "import numpy as np"
   ]
  },
  {
   "cell_type": "markdown",
   "metadata": {
    "slideshow": {
     "slide_type": "-"
    }
   },
   "source": [
    "## Exercises"
   ]
  },
  {
   "cell_type": "markdown",
   "metadata": {},
   "source": [
    "**Task:**\n",
    "\n",
    "Generate a numpy-1D array of length 10, all elements being 0, except the 5th element which is 1"
   ]
  },
  {
   "cell_type": "code",
   "execution_count": 2,
   "metadata": {},
   "outputs": [
    {
     "name": "stdout",
     "output_type": "stream",
     "text": [
      "[0. 0. 0. 0. 1. 0. 0. 0. 0. 0.]\n"
     ]
    }
   ],
   "source": [
    "### Your Solution\n",
    "a = np.zeros(10)\n",
    "a[4] = 1\n",
    "print(a)\n"
   ]
  },
  {
   "cell_type": "markdown",
   "metadata": {},
   "source": [
    "**Task:**\n",
    "\n",
    "Reverse the order of vector `z`: The first element becomes the last, the second becomes the second last etc."
   ]
  },
  {
   "cell_type": "code",
   "execution_count": 3,
   "metadata": {},
   "outputs": [
    {
     "data": {
      "text/plain": [
       "array([49, 48, 47, 46, 45, 44, 43, 42, 41, 40, 39, 38, 37, 36, 35, 34, 33,\n",
       "       32, 31, 30, 29, 28, 27, 26, 25, 24, 23, 22, 21, 20, 19, 18, 17, 16,\n",
       "       15, 14, 13, 12, 11, 10,  9,  8,  7,  6,  5,  4,  3,  2,  1,  0])"
      ]
     },
     "execution_count": 3,
     "metadata": {},
     "output_type": "execute_result"
    }
   ],
   "source": [
    "### Your Solution\n",
    "z = np.arange(50)\n",
    "z[: : -1]\n",
    "\n",
    "#oder\n",
    "\n",
    "np.flip(z)"
   ]
  },
  {
   "cell_type": "markdown",
   "metadata": {},
   "source": [
    "**Task:**\n",
    "\n",
    "Find the indices of all elements that are nonzero."
   ]
  },
  {
   "cell_type": "code",
   "execution_count": 4,
   "metadata": {},
   "outputs": [
    {
     "data": {
      "text/plain": [
       "(array([0, 1, 4]),)"
      ]
     },
     "execution_count": 4,
     "metadata": {},
     "output_type": "execute_result"
    }
   ],
   "source": [
    "### Your Solution\n",
    "z = np.array([1,2,0,0,4,0])\n",
    "np.where(z != 0)"
   ]
  },
  {
   "cell_type": "markdown",
   "metadata": {},
   "source": [
    "**Task:**\n",
    "\n",
    "Generate a 10x10 array with random values and find the smallest and largest value."
   ]
  },
  {
   "cell_type": "code",
   "execution_count": 5,
   "metadata": {},
   "outputs": [
    {
     "name": "stdout",
     "output_type": "stream",
     "text": [
      "[[597 476 741 534 382 387 457 853 311 705]\n",
      " [ 46 892  70 804 405 738  31 939 143 231]\n",
      " [534   3 193 190  40 650 476 297 561 417]\n",
      " [167 981 825 220 114 179 748 735 672 214]\n",
      " [221 490 950 951 481 111 319 363 786 600]\n",
      " [607 379 894  59 748 659 546 103 836 600]\n",
      " [531  44 648 778 128  88 676 189 498 654]\n",
      " [518 923  73 649 231 580  16 298 693 708]\n",
      " [329 748 319 174 222 264 976 419 743 961]\n",
      " [238 138 175 476  12  88 207 447 960 406]] \n",
      " Minimum:  3 Maximum:  981\n"
     ]
    }
   ],
   "source": [
    "### Your Solution\n",
    "a = np.random.randint(1000, size=(10, 10))\n",
    "print(a, '\\n Minimum: ', np.min(a),'Maximum: ', np.max(a))\n"
   ]
  },
  {
   "cell_type": "markdown",
   "metadata": {},
   "source": [
    "**Task:**\n",
    "\n",
    "Generate a vector of length 50 with random values and calculate the mean."
   ]
  },
  {
   "cell_type": "code",
   "execution_count": 6,
   "metadata": {},
   "outputs": [
    {
     "name": "stdout",
     "output_type": "stream",
     "text": [
      "[582 784 206 592 949 870 530 333 591 808 775 110 325 446 267 170 175 738\n",
      " 546 739 648 208 315 835 779 822  49 388 485 503 454 533 159 240 846 997\n",
      " 856 951 414 583 202 858 149 727  11 624 830 353 661 708] \n",
      " Mean:  534.48\n"
     ]
    }
   ],
   "source": [
    "### Your Solution\n",
    "v = np.random.randint(1000, size=(50))\n",
    "mean = np.mean(v)\n",
    "print(v, '\\n Mean: ', mean)\n"
   ]
  },
  {
   "cell_type": "markdown",
   "metadata": {},
   "source": [
    "**Task:**\n",
    "\n",
    "Explain the following results:"
   ]
  },
  {
   "cell_type": "code",
   "execution_count": 7,
   "metadata": {},
   "outputs": [
    {
     "name": "stdout",
     "output_type": "stream",
     "text": [
      "nan\n",
      "False\n",
      "False\n",
      "nan\n",
      "False\n"
     ]
    }
   ],
   "source": [
    "print(0 * np.nan) # calculations using NaN always return NaN\n",
    "print(np.nan == np.nan) # NaN can not be compared to NaN\n",
    "print(np.inf > np.nan) # You should not compare against NaN because it's not part of indinity\n",
    "print(np.nan - np.nan) # again, calculation involving NaN return NaN\n",
    "print(0.3 == 3 * 0.1) # Has something to do with the floating point on a bit level"
   ]
  },
  {
   "cell_type": "markdown",
   "metadata": {},
   "source": [
    "**Task:**\n",
    "\n",
    "Generate an 8x8 matrix and fill it with a chess pattern like:\n",
    "\n",
    "`\n",
    "array([[1., 0., 1., 0., 1., 0., 1., 0.],\n",
    "       [0., 1., 0., 1., 0., 1., 0., 1.],\n",
    "       [1., 0., 1., 0., 1., 0., 1., 0.],\n",
    "       [0., 1., 0., 1., 0., 1., 0., 1.],\n",
    "       [1., 0., 1., 0., 1., 0., 1., 0.],\n",
    "       [0., 1., 0., 1., 0., 1., 0., 1.],\n",
    "       [1., 0., 1., 0., 1., 0., 1., 0.],\n",
    "       [0., 1., 0., 1., 0., 1., 0., 1.]])\n",
    "`"
   ]
  },
  {
   "cell_type": "code",
   "execution_count": 8,
   "metadata": {},
   "outputs": [
    {
     "name": "stdout",
     "output_type": "stream",
     "text": [
      "[[1. 0. 1. 0. 1. 0. 1. 0.]\n",
      " [0. 1. 0. 1. 0. 1. 0. 1.]\n",
      " [1. 0. 1. 0. 1. 0. 1. 0.]\n",
      " [0. 1. 0. 1. 0. 1. 0. 1.]\n",
      " [1. 0. 1. 0. 1. 0. 1. 0.]\n",
      " [0. 1. 0. 1. 0. 1. 0. 1.]\n",
      " [1. 0. 1. 0. 1. 0. 1. 0.]\n",
      " [0. 1. 0. 1. 0. 1. 0. 1.]]\n",
      "[[1 0 1 0 1 0 1 0]\n",
      " [0 1 0 1 0 1 0 1]\n",
      " [1 0 1 0 1 0 1 0]\n",
      " [0 1 0 1 0 1 0 1]\n",
      " [1 0 1 0 1 0 1 0]\n",
      " [0 1 0 1 0 1 0 1]\n",
      " [1 0 1 0 1 0 1 0]\n",
      " [0 1 0 1 0 1 0 1]]\n"
     ]
    }
   ],
   "source": [
    "### Your Solution - took long enough\n",
    "chess = np.ones(64).reshape((8,8))\n",
    "for (i,j),val in np.ndenumerate(chess):\n",
    "    if(i % 2 != 0):\n",
    "        if(j % 2 == 0):\n",
    "            chess[i][j] = 0\n",
    "    else:\n",
    "        if(j % 2 != 0):\n",
    "            chess[i][j] = 0\n",
    "print(chess)\n",
    "\n",
    "\n",
    "#oder\n",
    "chessArray = np.zeros([8,8],dtype = int)\n",
    "chessArray[::2,::2] = 1 # starting at first row selecting every second element starting with the first\n",
    "chessArray[1::2,1::2] = 1 # start at second row and select every second element starting with the second\n",
    "print(chessArray)"
   ]
  },
  {
   "cell_type": "markdown",
   "metadata": {},
   "source": [
    "**Task:**\n",
    "\n",
    "Generate a random 5x5 matrix and normalize (scale) it. That means, the smallest value should become 0.0, the largest 1.0"
   ]
  },
  {
   "cell_type": "code",
   "execution_count": 9,
   "metadata": {},
   "outputs": [
    {
     "name": "stdout",
     "output_type": "stream",
     "text": [
      "[[0.13684211 0.98947368 0.38947368 0.97894737 0.53684211]\n",
      " [0.91578947 0.70526316 0.53684211 0.71578947 0.09473684]\n",
      " [0.51578947 0.50526316 1.         0.46315789 0.93684211]\n",
      " [0.13684211 0.35789474 0.28421053 0.         0.64210526]\n",
      " [0.30526316 0.13684211 0.12631579 0.35789474 0.64210526]]\n"
     ]
    }
   ],
   "source": [
    "### Your Solution\n",
    "a = np.random.randint(100, size=(5, 5))\n",
    "normalized = (a - np.min(a)) / (np.max(a) - np.min(a))  # (a - a_min)/(a_max - a_min)\n",
    "print(normalized)"
   ]
  },
  {
   "cell_type": "markdown",
   "metadata": {},
   "source": [
    "**Task:**\n",
    "\n",
    "From each row, subtract the maximum value of that row."
   ]
  },
  {
   "cell_type": "code",
   "execution_count": 10,
   "metadata": {},
   "outputs": [
    {
     "name": "stdout",
     "output_type": "stream",
     "text": [
      "[[ 0  1  2  3]\n",
      " [ 4  5  6  7]\n",
      " [ 8  9 10 11]]\n",
      "[[-3 -2 -1  0]\n",
      " [-3 -2 -1  0]\n",
      " [-3 -2 -1  0]]\n"
     ]
    }
   ],
   "source": [
    "### Your Solution\n",
    "z = np.arange(12).reshape((3,4))\n",
    "print(z)\n",
    "for (i,j),val in np.ndenumerate(z):\n",
    "    z[i][j] = val - z[i].max()\n",
    "print(z)"
   ]
  },
  {
   "cell_type": "markdown",
   "metadata": {},
   "source": [
    "**Task:**\n",
    "    \n",
    "Divide each column by the sum of that column. Then verify that each column adds up to 1."
   ]
  },
  {
   "cell_type": "code",
   "execution_count": 11,
   "metadata": {
    "scrolled": true
   },
   "outputs": [
    {
     "name": "stdout",
     "output_type": "stream",
     "text": [
      "[[ 0  4  8]\n",
      " [ 1  5  9]\n",
      " [ 2  6 10]\n",
      " [ 3  7 11]]\n",
      "Transposed matrix:\n",
      "[[0.         0.33333333 0.66666667]\n",
      " [0.06666667 0.33333333 0.6       ]\n",
      " [0.11111111 0.33333333 0.55555556]\n",
      " [0.14285714 0.33333333 0.52380952]]\n",
      "Final result: \n",
      "[[0.         0.06666667 0.11111111 0.14285714]\n",
      " [0.33333333 0.33333333 0.33333333 0.33333333]\n",
      " [0.66666667 0.6        0.55555556 0.52380952]]\n",
      "Sum of each column: \n",
      "[1. 1. 1. 1.]\n"
     ]
    }
   ],
   "source": [
    "### Your Solution\n",
    "z = np.arange(12).reshape((3,4)).transpose()\n",
    "print(z)\n",
    "x = np.copy(z).astype(float)\n",
    "for (i,j),val in np.ndenumerate(z):\n",
    "       x[i,j] = val / z[i].sum()\n",
    "print(\"Transposed matrix:\")\n",
    "print(x)\n",
    "z = np.copy(x.transpose())\n",
    "print('Final result: ')\n",
    "print(z)\n",
    "print(\"Sum of each column: \")\n",
    "print(np.sum(z, axis=0)) # 0 = columns | 1 = rows\n",
    "\n",
    "\n"
   ]
  },
  {
   "cell_type": "markdown",
   "metadata": {},
   "source": [
    "**Task:**\n",
    "\n",
    "Negate all elements between 3 and 8 in place."
   ]
  },
  {
   "cell_type": "code",
   "execution_count": 12,
   "metadata": {},
   "outputs": [
    {
     "name": "stdout",
     "output_type": "stream",
     "text": [
      "[ 0  1  2 -3 -4 -5 -6 -7  8  9 10]\n"
     ]
    }
   ],
   "source": [
    "### Your Solution\n",
    "Z = np.arange(11)\n",
    "# np.negative() did not do in place operation\n",
    "Z[3:8:1] = Z[3:8:1]*-1\n",
    "print(Z)"
   ]
  },
  {
   "cell_type": "markdown",
   "metadata": {},
   "source": [
    "**Task:**\n",
    "\n",
    "Explain the result (output) of the following code:"
   ]
  },
  {
   "cell_type": "code",
   "execution_count": 13,
   "metadata": {},
   "outputs": [
    {
     "name": "stdout",
     "output_type": "stream",
     "text": [
      "9\n",
      "10\n"
     ]
    }
   ],
   "source": [
    "### Your Solution\n",
    "print(sum(range(5),-1)) # 0+1+2+3+4+(-1)\n",
    "from numpy import *\n",
    "# If axis is negative it counts from the last to the first axis\n",
    "print(sum(range(5), axis=-1)) #0+1+2+3+4 axis -1\n",
    "del sum"
   ]
  },
  {
   "cell_type": "markdown",
   "metadata": {},
   "source": [
    "**Task:**\n",
    "\n",
    "Generate a random vector of length 100 and sort it."
   ]
  },
  {
   "cell_type": "code",
   "execution_count": 14,
   "metadata": {},
   "outputs": [
    {
     "data": {
      "text/plain": [
       "array([0, 0, 0, 0, 0, 0, 0, 0, 0, 1, 1, 1, 1, 1, 1, 1, 2, 2, 2, 2, 2, 2,\n",
       "       2, 2, 2, 2, 2, 2, 3, 3, 3, 3, 3, 3, 3, 3, 3, 3, 3, 3, 3, 3, 3, 3,\n",
       "       4, 4, 4, 4, 4, 4, 4, 4, 4, 5, 5, 5, 5, 5, 5, 5, 5, 5, 5, 5, 5, 6,\n",
       "       6, 6, 6, 6, 6, 7, 7, 7, 7, 7, 7, 7, 7, 7, 7, 8, 8, 8, 8, 8, 8, 8,\n",
       "       8, 9, 9, 9, 9, 9, 9, 9, 9, 9, 9, 9])"
      ]
     },
     "execution_count": 14,
     "metadata": {},
     "output_type": "execute_result"
    }
   ],
   "source": [
    "### Your Solution\n",
    "vector100 = np.random.randint(10,size=100)\n",
    "np.sort(vector100)"
   ]
  },
  {
   "cell_type": "markdown",
   "metadata": {},
   "source": [
    "**Task:**\n",
    "\n",
    "Check if two arrays are equal:\n",
    "\n",
    "    1. All elements should be exactly the same\n",
    "    2. Equality within a tolerance"
   ]
  },
  {
   "cell_type": "code",
   "execution_count": 15,
   "metadata": {},
   "outputs": [
    {
     "name": "stdout",
     "output_type": "stream",
     "text": [
      "[[0.34702813 0.25909624 0.17445103 0.421659  ]\n",
      " [0.48484589 0.34318098 0.73683324 0.73404156]\n",
      " [0.45006762 0.74833719 0.83428002 0.92361665]]\n"
     ]
    },
    {
     "data": {
      "text/plain": [
       "True"
      ]
     },
     "execution_count": 15,
     "metadata": {},
     "output_type": "execute_result"
    }
   ],
   "source": [
    "### Your Solution\n",
    "A = np.random.random((3,4))\n",
    "B = A.copy()\n",
    "B[1,2] = A[1,2] * 1.00000000000001\n",
    "print (A)\n",
    "\n",
    "np.array_equal(A,B) # no tolerance - false\n",
    "np.allclose(A,B,0.01) # tolerance is 0.01 - true"
   ]
  },
  {
   "cell_type": "markdown",
   "metadata": {},
   "source": [
    "**Task:**\n",
    "\n",
    "Generate (as little code as possible) the following matrix with `np.array` and save it as the variable `arr`.\n",
    "\n",
    "\\begin{bmatrix}\n",
    "1 & 1 & 1 &1  &1 \\\\ \n",
    "1 & 2 & 1 & 1 & 1\\\\ \n",
    "1 & 1 & 3 & 1 & 1\\\\ \n",
    "1 &1  & 1 & 4 & 1\n",
    "\\end{bmatrix}\n",
    "\n",
    "And calculate:\n",
    "- the sum of each line\n",
    "- the sum of each row"
   ]
  },
  {
   "cell_type": "code",
   "execution_count": 16,
   "metadata": {},
   "outputs": [
    {
     "name": "stdout",
     "output_type": "stream",
     "text": [
      "[[1. 1. 1. 1. 1.]\n",
      " [1. 2. 1. 1. 1.]\n",
      " [1. 1. 3. 1. 1.]\n",
      " [1. 1. 1. 4. 1.]]\n",
      "Sum of each line:\n",
      "[4. 5. 6. 7. 4.]\n",
      "Sum of each row:\n",
      "[5. 6. 7. 8.]\n"
     ]
    }
   ],
   "source": [
    "### Your Solution\n",
    "arr = np.ones((4,5))\n",
    "dia = np.arange(4)\n",
    "arr[dia,dia] = arr[dia,dia] + dia[dia]\n",
    "print(arr)\n",
    "#TODO calculate sums\n",
    "print(\"Sum of each line:\")\n",
    "print(np.sum(arr, axis=0))\n",
    "print(\"Sum of each row:\")\n",
    "print(np.sum(arr, axis=1))\n",
    "\n"
   ]
  },
  {
   "cell_type": "markdown",
   "metadata": {},
   "source": [
    "**Task:**\n",
    "\n",
    "Generate a 2x2 matrix from `arr`: It shall consist of the 4 values when taking the values of the 2nd and 4th column of arr and the even rows.\n",
    "\n",
    "Use different methods:\n",
    "(see http://docs.scipy.org/doc/numpy/reference/arrays.indexing.html)\n",
    "- integer array indexes\n",
    "- slices\n",
    "- boolean arrays\n"
   ]
  },
  {
   "cell_type": "code",
   "execution_count": 17,
   "metadata": {},
   "outputs": [
    {
     "name": "stdout",
     "output_type": "stream",
     "text": [
      "[[1. 1. 1. 1. 1.]\n",
      " [1. 2. 1. 1. 1.]\n",
      " [1. 1. 3. 1. 1.]\n",
      " [1. 1. 1. 4. 1.]]\n",
      "[[2. 1.]\n",
      " [1. 4.]]\n",
      "[[2. 1.]\n",
      " [1. 4.]]\n"
     ]
    }
   ],
   "source": [
    "### Your Solution - TODO\n",
    "rows = np.array([0, 3], dtype=np.intp)\n",
    "columns = np.array([0, 4], dtype=np.intp)\n",
    "arr[np.ix_(rows, columns)]\n",
    "print(arr)\n",
    "m1 = arr[1::2,1::2] # select every second row and column, starting with the second one in each case\n",
    "print(m1)\n",
    "m2 = arr[[1, 1, 3, 3], [1, 3, 1, 3]].reshape(2,2) # using advanced indexing\n",
    "print(m2)\n",
    "# m3 = arr[((np.sum(arr, axis=1) % 2) == 0) & ((np.sum(arr, axis=0) % 2) != 0)]\n",
    "# print(m3)\n",
    "\n"
   ]
  },
  {
   "cell_type": "markdown",
   "metadata": {},
   "source": [
    "**Task:**\n",
    "\n",
    "(see http://docs.scipy.org/doc/numpy-1.10.1/user/basics.broadcasting.html)\n",
    "\n",
    "Explain the following operations on `arr`"
   ]
  },
  {
   "cell_type": "code",
   "execution_count": 22,
   "metadata": {},
   "outputs": [
    {
     "name": "stdout",
     "output_type": "stream",
     "text": [
      "[[1. 1. 1. 1. 1.]\n",
      " [1. 2. 1. 1. 1.]\n",
      " [1. 1. 3. 1. 1.]\n",
      " [1. 1. 1. 4. 1.]]\n",
      "--------1-------\n",
      "[[ 5.  5.  5.  5.  5.]\n",
      " [ 5. 10.  5.  5.  5.]\n",
      " [ 5.  5. 15.  5.  5.]\n",
      " [ 5.  5.  5. 20.  5.]]\n",
      "--------2-------\n",
      "[0 1 2 3 4]\n",
      "[[ 0.  1.  2.  3.  4.]\n",
      " [ 0.  2.  2.  3.  4.]\n",
      " [ 0.  1.  6.  3.  4.]\n",
      " [ 0.  1.  2. 12.  4.]]\n",
      "--------3------\n",
      "[[ 0.  1.  2.  3.]\n",
      " [ 0.  2.  2.  3.]\n",
      " [ 0.  1.  6.  3.]\n",
      " [ 0.  1.  2. 12.]\n",
      " [ 0.  1.  2.  3.]]\n",
      "--------4-------\n",
      "[[ 0.  1.  2.  3.  4.]\n",
      " [ 0.  2.  2.  3.  4.]\n",
      " [ 0.  1.  6.  3.  4.]\n",
      " [ 0.  1.  2. 12.  4.]]\n"
     ]
    }
   ],
   "source": [
    "### Your Solution - TODO\n",
    "print(arr)\n",
    "print('--------1-------')\n",
    "# 1. scalar product with scalar 5\n",
    "print(arr * 5.)\n",
    "print('--------2-------')\n",
    "# 2. matrix product of arr with the vector [0, 1, 2, 3, 4]\n",
    "print(np.arange(arr.shape[1]))\n",
    "print(arr * np.arange(arr.shape[1]))\n",
    "print('--------3------')\n",
    "# 3. matrix product of transposed arr with the vector [0, 1, 2, 3]\n",
    "print(arr.T * np.arange(arr.shape[0]))\n",
    "print('--------4-------')\n",
    "# 4. Does not work because amount of columns does not match (col_arr=5, col_v=4)\n",
    "# original: print(arr * np.arange(arr.shape[0]))\n",
    "# instead this would work:\n",
    "print(arr * np.arange(arr.shape[1]))"
   ]
  },
  {
   "cell_type": "markdown",
   "metadata": {},
   "source": [
    "**Task:**\n",
    "\n",
    "Calculate the matrix-vector product (dot product) of `arr` and $v$:\n",
    "\n",
    "with:\n",
    "\n",
    "$\n",
    "v = (1,2,3,4,5)^T\n",
    "$"
   ]
  },
  {
   "cell_type": "code",
   "execution_count": null,
   "metadata": {},
   "outputs": [],
   "source": [
    "### Your Solution\n",
    "print(arr)\n",
    "np.dot(arr ,np.array([1,2,3,4,5]).transpose())"
   ]
  },
  {
   "cell_type": "markdown",
   "metadata": {
    "slideshow": {
     "slide_type": "-"
    }
   },
   "source": [
    "## Summary and Outlook\n",
    "\n",
    "In this notebook you've picked up many of the essential numpy operations for maths and data science tasks.\n",
    "\n",
    "The more you use the library, the more of its functionality you'll discover and its usage will grow more intuitive and familiar."
   ]
  },
  {
   "cell_type": "markdown",
   "metadata": {
    "slideshow": {
     "slide_type": "-"
    }
   },
   "source": [
    "## Licenses\n",
    "\n",
    "### Notebook License (CC-BY-SA 4.0)\n",
    "\n",
    "*The following license applies to the complete notebook, including code cells. It does however not apply to any referenced external media (e.g., images).*\n",
    "\n",
    "Exercise: Python Numpy Basics <br/>\n",
    "by Klaus Strohmenger <br/>\n",
    "is licensed under a [Creative Commons Attribution-ShareAlike 4.0 International License](http://creativecommons.org/licenses/by-sa/4.0/).<br/>\n",
    "Based on a work at https://gitlab.com/deep.TEACHING.\n",
    "\n",
    "\n",
    "### Code License (MIT)\n",
    "\n",
    "*The following license only applies to code cells of the notebook.*\n",
    "\n",
    "Copyright 2019 Klaus Strohmenger\n",
    "\n",
    "Permission is hereby granted, free of charge, to any person obtaining a copy of this software and associated documentation files (the \"Software\"), to deal in the Software without restriction, including without limitation the rights to use, copy, modify, merge, publish, distribute, sublicense, and/or sell copies of the Software, and to permit persons to whom the Software is furnished to do so, subject to the following conditions:\n",
    "\n",
    "The above copyright notice and this permission notice shall be included in all copies or substantial portions of the Software.\n",
    "\n",
    "THE SOFTWARE IS PROVIDED \"AS IS\", WITHOUT WARRANTY OF ANY KIND, EXPRESS OR IMPLIED, INCLUDING BUT NOT LIMITED TO THE WARRANTIES OF MERCHANTABILITY, FITNESS FOR A PARTICULAR PURPOSE AND NONINFRINGEMENT. IN NO EVENT SHALL THE AUTHORS OR COPYRIGHT HOLDERS BE LIABLE FOR ANY CLAIM, DAMAGES OR OTHER LIABILITY, WHETHER IN AN ACTION OF CONTRACT, TORT OR OTHERWISE, ARISING FROM, OUT OF OR IN CONNECTION WITH THE SOFTWARE OR THE USE OR OTHER DEALINGS IN THE SOFTWARE."
   ]
  },
  {
   "cell_type": "code",
   "execution_count": null,
   "metadata": {},
   "outputs": [],
   "source": []
  }
 ],
 "metadata": {
  "celltoolbar": "Slideshow",
  "kernelspec": {
   "display_name": "Python 3",
   "language": "python",
   "name": "python3"
  },
  "language_info": {
   "codemirror_mode": {
    "name": "ipython",
    "version": 3
   },
   "file_extension": ".py",
   "mimetype": "text/x-python",
   "name": "python",
   "nbconvert_exporter": "python",
   "pygments_lexer": "ipython3",
   "version": "3.7.4"
  }
 },
 "nbformat": 4,
 "nbformat_minor": 2
}
