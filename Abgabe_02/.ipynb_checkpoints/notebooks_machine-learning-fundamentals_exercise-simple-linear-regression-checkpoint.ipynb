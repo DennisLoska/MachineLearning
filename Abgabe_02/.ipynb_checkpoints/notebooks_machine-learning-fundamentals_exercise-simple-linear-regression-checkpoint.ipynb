{
 "cells": [
  {
   "cell_type": "markdown",
   "metadata": {
    "slideshow": {
     "slide_type": "slide"
    }
   },
   "source": [
    "# ML-Fundamentals - Linear Regression - Exercise: Simple Linear Regression"
   ]
  },
  {
   "cell_type": "markdown",
   "metadata": {
    "slideshow": {
     "slide_type": "slide"
    }
   },
   "source": [
    "## Table of Contents\n",
    "* [Introduction](#Introduction)\n",
    "* [Requirements](#Requirements) \n",
    "  * [Knowledge](#Knowledge) \n",
    "  * [Modules](#Python-Modules)\n",
    "* [Exercises: Simple Linear Regression](#Simple-Linear-Regression)\n",
    "  * [Create a Data Set](#Create-a-Data-Set)\n",
    "  * [Linear Hypothesis](#Linear-Hypothesis)\n",
    "  * [Cost Function](#Cost-Function)\n",
    "  * [Cost Function Visualization](#Cost-Function-Visualization)\n",
    "  * [Optimizing wit Gradient Descent](#Gradient-Descent)\n",
    "  * [Model Evaluation](#Model-and-Training-Evaluation)\n",
    "  * [Optimize Hyperparameters](#Optimize-Hyperparameter)  \n",
    "* [Summary and Outlook](#Summary-and-Outlook) \n",
    "* [Literature](#Literature) \n",
    "* [Licenses](#Licenses)"
   ]
  },
  {
   "cell_type": "markdown",
   "metadata": {
    "slideshow": {
     "slide_type": "slide"
    }
   },
   "source": [
    "## Introduction\n",
    "Linear Regression is the _Hello World_ of Machine Learning. In this exercise you will implement a _simple linear regression (univariate linear regression)_, a model with one predictor and one response variable. The goal is to recap and practice fundamental concepts of Machine Learning. After the exercise, you should have a deeper understanding of what a Machine Learning model is and how do you train such a model with a data set (supervised learning). To achieve this, you will:\n",
    "1. Calculate the cost and the gradient for concrete training data and $\\theta$ (pen & paper exercise)\n",
    "2. Create your own data set\n",
    "3. Implement a linear function as hypothesis (model) \n",
    "4. Write a function to quantify your model (cost function)\n",
    "5. Learn to visualize the cost function\n",
    "6. Implement the gradient descent algorithm to train your model (optimizer) \n",
    "7. Visualize your training process and results"
   ]
  },
  {
   "cell_type": "markdown",
   "metadata": {
    "slideshow": {
     "slide_type": "slide"
    }
   },
   "source": [
    "## Requirements\n",
    "### Knowledge\n",
    "You should have a basic knowledge of Machine Learning models, cost functions, optimization algorithms and also numpy and matplotlib. We will only recap these concepts for a better understanding and do not explain them in great detail. Suitable sources for acquiring this knowledge are:\n",
    "- [Simple Linear Regression Notebook](http://christianherta.de/lehre/dataScience/machineLearning/basics/univariate-linear-regression.php) by Christian Herta and his [lecture slides](http://christianherta.de/lehre/dataScience/machineLearning/linearRegression.pdf) (German)\n",
    "- Chapter 2 of the open classroom [Machine Learning](http://openclassroom.stanford.edu/MainFolder/CoursePage.php?course=MachineLearning) by Andrew Ng\n",
    "- Chapter 5.1 of [Deep Learning](http://www.deeplearningbook.org/contents/ml.html) by Ian Goodfellow \n",
    "- Some parts of chapter 1 and 3 of [Pattern Recognition and Machine Learning](https://www.microsoft.com/en-us/research/people/cmbishop/#!prml-book) by Christopher M. Bishop\n",
    "- [numpy quickstart](https://docs.scipy.org/doc/numpy-1.15.1/user/quickstart.html)\n",
    "- [Matplotlib tutorials](https://matplotlib.org/tutorials/index.html)"
   ]
  },
  {
   "cell_type": "markdown",
   "metadata": {
    "slideshow": {
     "slide_type": "slide"
    }
   },
   "source": [
    "### Python Modules\n",
    "\n",
    "By [deep.TEACHING](https://www.deep-teaching.org/) convention, all python modules needed to run the notebook are loaded centrally at the beginning. \n"
   ]
  },
  {
   "cell_type": "code",
   "execution_count": 1,
   "metadata": {
    "slideshow": {
     "slide_type": "slide"
    }
   },
   "outputs": [],
   "source": [
    "# External Modules\n",
    "import numpy as np\n",
    "import matplotlib.pyplot as plt\n",
    "from mpl_toolkits.mplot3d.axes3d import Axes3D"
   ]
  },
  {
   "cell_type": "markdown",
   "metadata": {
    "slideshow": {
     "slide_type": "slide"
    }
   },
   "source": [
    "## Exercises - Simple Linear Regression"
   ]
  },
  {
   "cell_type": "markdown",
   "metadata": {
    "slideshow": {
     "slide_type": "slide"
    }
   },
   "source": [
    "### Pen & Paper Exercise\n",
    "\n",
    "Given the linear model:\n",
    "\n",
    "$$\n",
    "h_\\theta(x) = \\theta_0 + \\theta_1 x\n",
    "$$\n",
    "\n",
    "And the following concrete training data:\n",
    "\n",
    "$$\n",
    "D_{train} = \\{(0,1),(1,3),(2,6),(4,8)\\}\n",
    "$$\n",
    "\n",
    "with each tuple $(x,y)$ denoting $x$ the feature and $y$ the target.\n",
    "\n",
    "**Task:**\n",
    "\n",
    "For $\\theta_0 = 1$ and $\\theta_1 = 2$ calculate:\n",
    "\n",
    "1. The cost:\n",
    "\n",
    "$$ J_D(\\theta_0, \\theta_1)=\\frac{1}{2m}\\sum_{i=1}^{m}{(h_\\theta(x_i)-y_i)^2} $$\n",
    "\n",
    "2. The gradient $\\nabla J$, i.e. the partial derivatives:\n",
    "\n",
    "$$ \\frac{\\partial J (\\theta_0, \\theta_1)}{\\partial \\theta_0} $$\n",
    "\n",
    "$$ \\frac{\\partial J (\\theta_0, \\theta_1)}{\\partial \\theta_1} $$\n"
   ]
  },
  {
   "cell_type": "markdown",
   "metadata": {
    "slideshow": {
     "slide_type": "slide"
    }
   },
   "source": [
    "### Create a Data Set\n",
    "First of all, you have to generate a data set $\\Omega$ so you can evaluate your implementation. $\\Omega$ consists of tuples $(x^i,y^i)$. Let $x$ and $y$ be two numpy arrays of equal-length $m$. Create a linear function of $m$ data points in a given range $[x_{mi}, x_{max}]$. The $x$ values should be distributed equally over the defined interval. Add some Gaussian distributed noise to the corresponding $y$ values. Each response variable should differ from its ideal value by an additional $\\delta$.\n",
    "\n",
    "\\begin{equation}\n",
    "    f(x)= a + b * x + \\sigma , \\; with \\ X=\\left \\{  x \\in \\mathbb{R} \\mid x_{min} \\leqslant x \\leqslant  x_{max} \\right \\} \n",
    "\\end{equation}\n",
    "\n",
    "An example data set could look like this plot (random seed 42 used): \n",
    "\n",
    "<img src=\"https://gitlab.com/deep.TEACHING/educational-materials/raw/dev/media/voigt/images/Simple-Linear-Regression_Data_Set.png\" width=\"512\" alt=\"internet connection needed\">"
   ]
  },
  {
   "cell_type": "code",
   "execution_count": 2,
   "metadata": {
    "slideshow": {
     "slide_type": "slide"
    }
   },
   "outputs": [],
   "source": [
    "# fixed random seed for testing\n",
    "np.random.seed(42)\n",
    "\n",
    "def linear_random_data(sample_size, a, b, x_min, x_max, noise_factor):\n",
    "    '''creates a randam data set based on a linear function in a given interval\n",
    "    \n",
    "    Args:\n",
    "        sample_size: number of data points\n",
    "        a: coefficent of x^0\n",
    "        b: coefficent of x^1\n",
    "        x_min: lower bound value range\n",
    "        x_max: upper bound value range\n",
    "        noise_factor: strength of noise added to y \n",
    "    \n",
    "    Returns:\n",
    "        x: array of x values | len(x)==len(y)\n",
    "        y: array of y values corresponding to x | len(x)==len(y)\n",
    "    '''\n",
    "    x = np.random.randint(x_min,x_max, size=sample_size)\n",
    "    noise = np.random.normal(0,noise_factor,sample_size)\n",
    "    y = a + x*b + noise\n",
    "    return x,y\n",
    "    "
   ]
  },
  {
   "cell_type": "code",
   "execution_count": 3,
   "metadata": {},
   "outputs": [
    {
     "name": "stdout",
     "output_type": "stream",
     "text": [
      "True\n"
     ]
    },
    {
     "data": {
      "text/plain": [
       "[<matplotlib.lines.Line2D at 0x7fb4fa1c8310>]"
      ]
     },
     "execution_count": 3,
     "metadata": {},
     "output_type": "execute_result"
    },
    {
     "data": {
      "image/png": "[encoded data removed]",
      "text/plain": [
       "<Figure size 432x288 with 1 Axes>"
      ]
     },
     "metadata": {
      "needs_background": "light"
     },
     "output_type": "display_data"
    }
   ],
   "source": [
    "x, y = linear_random_data(50, 0., 5., -10, 10, 5)\n",
    "plt.plot(x,y, \"rx\")"
   ]
  },
  {
   "cell_type": "markdown",
   "metadata": {
    "slideshow": {
     "slide_type": "slide"
    }
   },
   "source": [
    "### Linear Hypothesis\n",
    "A short recap, a hypothesis $h_\\theta(x)$ is a certain function that we believe is similar to a target function that we like to model. A hypothesis $h_\\theta(x)$ is a function of $x$ with fixed parameters $\\theta$. The simplest kind of hypothesis is based on a linear equation with two parameters: \n",
    "\n",
    "\\begin{equation}\n",
    "    h_\\theta(x) = \\theta_{0} + \\theta_{1} * x \n",
    "\\end{equation}\n",
    "\n",
    "Implement hypothesis $h_\\theta(x)$ in the method `linear_hypothesis` and return it as a function. "
   ]
  },
  {
   "cell_type": "code",
   "execution_count": 4,
   "metadata": {
    "slideshow": {
     "slide_type": "slide"
    }
   },
   "outputs": [],
   "source": [
    "def linear_hypothesis(theta_0, theta_1):\n",
    "    ''' Combines given arguments in a linear equation and returns it as a function\n",
    "    \n",
    "    Args:\n",
    "        theta_0: first coefficient\n",
    "        theta_1: second coefficient\n",
    "        \n",
    "    Returns:\n",
    "        lambda that models a linear function based on theta_0, theta_1 and x\n",
    "    ''' \n",
    "    return lambda x : theta_0 + theta_1 * x"
   ]
  },
  {
   "cell_type": "markdown",
   "metadata": {
    "slideshow": {
     "slide_type": "slide"
    }
   },
   "source": [
    "### Cost Function\n",
    "A cost function $J$ depends on the given training data $D$ and hypothesis $h_\\theta(x)$. In the context of the simple linear regression, the cost function measures how wrong a model is regarding its ability to estimate the relationship between $x$ and $y$ for specific $\\theta$ values. Later we will treat this as an optimization problem and try to minimize the cost function $J_D(\\theta)$ to find optimal $\\theta$ values for our hypothesis $h_\\theta(x)$. The cost function we use in this exercise is the [Mean-Squared-Error](https://en.wikipedia.org/wiki/Mean_squared_error) cost function:\n",
    "\n",
    "\\begin{equation}\n",
    "    J_D(\\theta)=\\frac{1}{2m}\\sum_{i=1}^{m}{(h_\\theta(x_i)-y_i)^2}\n",
    "\\end{equation}\n",
    "\n",
    "Implement the cost function $J_D(\\theta)$ in the method `mse_cost_function`. The method should return a function that takes the values of $\\theta_0$ and $\\theta_1$ as an argument.\n",
    "\n",
    "Sidenote, the terms loss function or error function are often used interchangeably in the field of Machine Learning."
   ]
  },
  {
   "cell_type": "code",
   "execution_count": 5,
   "metadata": {
    "slideshow": {
     "slide_type": "slide"
    }
   },
   "outputs": [],
   "source": [
    "def mse_cost_function(x, y):\n",
    "    ''' Implements MSE cost function as a function J(theta_0, theta_1) on given tranings data \n",
    "    \n",
    "    Args:\n",
    "        x: vector of x values \n",
    "        y: vector of ground truth values y \n",
    "        \n",
    "    Returns:\n",
    "        lambda J(theta_0, theta_1) that models the cost function\n",
    "    '''\n",
    "    # Durchschnitt manuell berechnen:\n",
    "    # m = float(len(x))\n",
    "    # return lambda theta_0, theta_1 : 1/(2*m) * ((linear_hypothesis(theta_0,theta_1)(x) - y)**2).sum()\n",
    "    \n",
    "    # Mit np.mean():\n",
    "    return lambda theta_0, theta_1 : np.mean((linear_hypothesis(theta_0,theta_1)(x) - y)**2)/2\n",
    "    "
   ]
  },
  {
   "cell_type": "code",
   "execution_count": 6,
   "metadata": {},
   "outputs": [
    {
     "name": "stdout",
     "output_type": "stream",
     "text": [
      "93.26350657125094\n"
     ]
    }
   ],
   "source": [
    "j = mse_cost_function(x, y)\n",
    "print(j(2.1, 2.9))"
   ]
  },
  {
   "attachments": {
    "download.png": {
     "image/png": "[encoded data removed]"
    }
   },
   "cell_type": "markdown",
   "metadata": {
    "slideshow": {
     "slide_type": "-"
    }
   },
   "source": [
    "### Visualisation of Hypotheses\n",
    "\n",
    "Now we want to visualize the data set together with the hypothesis and explore the effects of adjusting the parameters. In your plot,\n",
    "* show your data set as a scatter plot\n",
    "* show a hypothesis h(x) as a line plot\n",
    "* calculate and present the MSE cost (a print statement will do as well)\n",
    "\n",
    "Here are some questions you may want to address:\n",
    "* How does the line modeling the hypothesis change when you tweak $\\theta_0$?\n",
    "* How does the line modeling the hypothesis hypothesis change when you tweak $\\theta_1$?\n",
    "* Try some different hypotheses with parameters that are close to the true model and some that are far from the truth. How does this affect the location of the hypothesis in relation to the data?\n",
    "* What is the effect on the cost?\n",
    "\n",
    "Your plot could look similar to the following:\n",
    "![download.png](attachment:download.png)"
   ]
  },
  {
   "cell_type": "code",
   "execution_count": 7,
   "metadata": {},
   "outputs": [],
   "source": [
    "def plot_data_with_hypothesis(x, y, theta0, theta1):\n",
    "    ''' Plots the data (x, y) together with a hypothesis given theta0 and theta1.    \n",
    "    '''\n",
    "    j = mse_cost_function(x, y)\n",
    "    print('Cost: ')\n",
    "    print(j(theta0, theta1))\n",
    "    plt.plot(x,y,\"rx\", label=\"data set\")\n",
    "    plt.plot(x,linear_hypothesis(theta0,theta1)(x), label=\"hypothesis\")\n",
    "    plt.xlabel('x')\n",
    "    plt.ylabel('y')\n",
    "    plt.title(\"IMI is plotting!\")\n",
    "    plt.legend()"
   ]
  },
  {
   "cell_type": "code",
   "execution_count": 8,
   "metadata": {},
   "outputs": [
    {
     "name": "stdout",
     "output_type": "stream",
     "text": [
      "Cost: \n",
      "286.84127692726497\n"
     ]
    },
    {
     "data": {
      "image/png": "[encoded data removed]",
      "text/plain": [
       "<Figure size 432x288 with 1 Axes>"
      ]
     },
     "metadata": {
      "needs_background": "light"
     },
     "output_type": "display_data"
    }
   ],
   "source": [
    "t0 = 1 ### try different values\n",
    "t1 = 1 ### try different values\n",
    "plot_data_with_hypothesis(x, y, theta0=t0, theta1=t1)"
   ]
  },
  {
   "cell_type": "markdown",
   "metadata": {
    "slideshow": {
     "slide_type": "slide"
    }
   },
   "source": [
    "### Cost Function Visualization\n",
    "\n",
    "After implementing a cost function, it is probably a good idea to visualize it to get from an abstract understanding to a more concrete representation. Use `matplotlib` and plot the cost function in two different ways. Create a [contour plot](https://matplotlib.org/api/_as_gen/matplotlib.pyplot.contour.html) that depicts a three-dimensional surface on a two-dimensional graph and plot the [surface](https://matplotlib.org/tutorials/toolkits/mplot3d.html?highlight=3d%20surface#mpl_toolkits.mplot3d.Axes3D.plot_surface) itself. Your visualization should consist of two subplots and have corresponding labeling, similar to the following example:\n",
    "\n",
    "![internet connection needed](https://gitlab.com/deep.TEACHING/educational-materials/raw/dev/media/voigt/images/Simple-Linear-Regression_Cost-Function.png)"
   ]
  },
  {
   "cell_type": "code",
   "execution_count": 9,
   "metadata": {
    "slideshow": {
     "slide_type": "slide"
    }
   },
   "outputs": [],
   "source": [
    "def create_cost_plt_data(cost_func, interval, num_samples, x_offset=0., y_offset=0.):\n",
    "    ''' Creates data for a 3D plot based on a given interval and a cost function\n",
    "    \n",
    "    The function creates two vectors t0 and t1 based on the 'interval' and number \n",
    "    of data point 'num_samples'. Using 'np.meshgrid' and the vectors two matrices \n",
    "    T0 and T1 are created that can be used as X  and Y during the plotting process. \n",
    "    Using the given 'cost_func' and the vector an additional matrix 'C ' is \n",
    "    created representing the cost for all data point combinations.\n",
    "    \n",
    "    Args:\n",
    "        cost_func: a function that is used to calculate costs C \n",
    "        interval: a scalar that defines the range [-interval,interval] data points \n",
    "                  are drawn from\n",
    "        num_samples: number of data points drawn from the interval, equaly distributed \n",
    "        x_offset: shifts the interval by a scalar\n",
    "        y_offset: shifts the interval by a scalar\n",
    "        \n",
    "    Returns:\n",
    "        T0: a matrix representing a meshgrid for X values (Theta 0) \n",
    "        T1: a matrix representing a meshgrid for Y values (Theta 1)\n",
    "        C: a matrix respresenting cost values        \n",
    "    '''\n",
    "    raise NotImplementedError(\"You should implement this!\")\n",
    "\n",
    "def create_cost_plt(T0, T1, Costs):\n",
    "    ''' Creates a counter and a surface plot based on given data\n",
    "    \n",
    "    Args:\n",
    "        T0: a matrix representing a meshgrid for X values (Theta 0) \n",
    "        T1: a matrix representing a meshgrid for Y values (Theta 1)\n",
    "        C: a matrix respresenting cost values \n",
    "    '''\n",
    "    raise NotImplementedError(\"You should implement this!\")"
   ]
  },
  {
   "cell_type": "code",
   "execution_count": 10,
   "metadata": {},
   "outputs": [
    {
     "ename": "NameError",
     "evalue": "name 'ymse_cost_function' is not defined",
     "output_type": "error",
     "traceback": [
      "\u001b[0;31m---------------------------------------------------------------------------\u001b[0m",
      "\u001b[0;31mNameError\u001b[0m                                 Traceback (most recent call last)",
      "\u001b[0;32m<ipython-input-10-c590f8a16f7c>\u001b[0m in \u001b[0;36m<module>\u001b[0;34m\u001b[0m\n\u001b[1;32m      1\u001b[0m \u001b[0;31m# create some data and plot it\u001b[0m\u001b[0;34m\u001b[0m\u001b[0;34m\u001b[0m\u001b[0;34m\u001b[0m\u001b[0m\n\u001b[0;32m----> 2\u001b[0;31m \u001b[0mT0\u001b[0m\u001b[0;34m,\u001b[0m \u001b[0mT1\u001b[0m\u001b[0;34m,\u001b[0m \u001b[0mC\u001b[0m \u001b[0;34m=\u001b[0m \u001b[0mcreate_cost_plt_data\u001b[0m\u001b[0;34m(\u001b[0m\u001b[0mx\u001b[0m\u001b[0;34m,\u001b[0m \u001b[0mymse_cost_function\u001b[0m\u001b[0;34m,\u001b[0m \u001b[0;36m1000\u001b[0m\u001b[0;34m,\u001b[0m \u001b[0;36m51\u001b[0m\u001b[0;34m,\u001b[0m \u001b[0my_offset\u001b[0m\u001b[0;34m=\u001b[0m\u001b[0;36m5.\u001b[0m\u001b[0;34m)\u001b[0m\u001b[0;34m\u001b[0m\u001b[0;34m\u001b[0m\u001b[0m\n\u001b[0m\u001b[1;32m      3\u001b[0m \u001b[0mcreate_cost_plt\u001b[0m\u001b[0;34m(\u001b[0m\u001b[0mT0\u001b[0m\u001b[0;34m,\u001b[0m \u001b[0mT1\u001b[0m\u001b[0;34m,\u001b[0m \u001b[0mC\u001b[0m\u001b[0;34m)\u001b[0m\u001b[0;34m\u001b[0m\u001b[0;34m\u001b[0m\u001b[0m\n",
      "\u001b[0;31mNameError\u001b[0m: name 'ymse_cost_function' is not defined"
     ]
    }
   ],
   "source": [
    "# create some data and plot it\n",
    "T0, T1, C = create_cost_plt_data(x, ymse_cost_function, 1000, 51, y_offset=5.)\n",
    "create_cost_plt(T0, T1, C)"
   ]
  },
  {
   "cell_type": "markdown",
   "metadata": {
    "slideshow": {
     "slide_type": "slide"
    }
   },
   "source": [
    "###  Gradient Descent\n",
    "\n",
    "A short recap, the gradient descent algorithm is a first-order iterative optimization for finding a minimum of a function. From the current position in a (cost) function, the algorithm steps proportional to the negative of the gradient and repeats this until it reaches a local or global minimum and determines. Stepping proportional means that it does not go entirely in the direction of the negative gradient, but scaled by a fixed value $\\alpha$ also called the learning rate. Implementing the following formalized update rule is the core of the optimization process:\n",
    "\n",
    "\\begin{equation}\n",
    "    \\theta_{j_{new}} \\leftarrow \\theta_{j_{old}} - \\alpha * \\frac{\\delta}{\\delta\\theta_{j_{old}}} J(\\theta_{old})\n",
    "\\end{equation}\n",
    "\n",
    "$\\frac{\\delta}{\\delta\\theta_{j_{old}}} J(\\theta_{old})$ is the partial derivative (gradient) of the cost function with respect to the j-th parameter.\n",
    "\n",
    "Partial derivative for $\\theta_0$:\n",
    "$$\n",
    "\\frac{\\partial}{\\partial \\theta_0} J(\\Theta)\n",
    "= \\frac{1}{m} \\sum_{i=1}^m (\\theta_0 + \\theta_1 \\cdot x^{(i)} - y^{(i)})\n",
    "$$\n",
    "\n",
    "Partial derivative for $\\theta_1$:\n",
    "$$\n",
    "\\frac{\\partial}{\\partial \\theta_1} = \\frac{1}{m} \\sum_{i=1}^m (\\theta_0 + \\theta_1 \\cdot x^{(i)} - y^{(i)}) \\cdot x^{(i)}\n",
    "$$"
   ]
  },
  {
   "cell_type": "code",
   "execution_count": null,
   "metadata": {
    "slideshow": {
     "slide_type": "slide"
    }
   },
   "outputs": [],
   "source": [
    "def update_theta(x, y, theta_0, theta_1, learning_rate):\n",
    "    ''' Updates learnable parameters theta_0 and theta_1 \n",
    "    \n",
    "    The update is done by calculating the partial derivities of \n",
    "    the cost function including the linear hypothesis. The \n",
    "    gradients scaled by a scalar are subtracted from the given \n",
    "    theta values.\n",
    "    \n",
    "    Args:\n",
    "        x: array of x values\n",
    "        y: array of y values corresponding to x\n",
    "        theta_0: current theta_0 value\n",
    "        theta_1: current theta_1 value\n",
    "        learning_rate: value to scale the negative gradient \n",
    "        \n",
    "    Returns:\n",
    "        t0: Updated theta_0\n",
    "        t1: Updated theta_1\n",
    "    '''\n",
    "    raise NotImplementedError(\"You should implement this!\")"
   ]
  },
  {
   "cell_type": "markdown",
   "metadata": {
    "slideshow": {
     "slide_type": "slide"
    }
   },
   "source": [
    "Using the `update_theta` method, you can now implement the gradient descent algorithm. Iterate over the update rule to find a $\\theta_0$ and a $\\theta_1$ that minimize our cost function $J_D(\\theta)$. This process is often called training of a machine learning model. During the training process create a history of all theta and cost values. You can use them later for evaluation. Implement a `verbose` argument that if true provides additional information during the process, e.g., final theta values after optimization or cost value at some iterations."
   ]
  },
  {
   "cell_type": "code",
   "execution_count": null,
   "metadata": {
    "slideshow": {
     "slide_type": "slide"
    }
   },
   "outputs": [],
   "source": [
    "def gradient_descent(x, y, iterations=1000, learning_rate=0.0001, verbose=False):\n",
    "    ''' Minimize theta values of a linear model based on MSE cost function\n",
    "    \n",
    "    Args:\n",
    "        x: vector, x values from the data set\n",
    "        y: vector, y values from the data set\n",
    "        iterations: scalar, number of theta updates\n",
    "        learning_rate: scalar, scales the negative gradient \n",
    "        verbose: boolean, print addition information \n",
    "        \n",
    "    Returns:\n",
    "        t0s: list of theta_0 values, one value for each iteration\n",
    "        t1s: list of theta_1 values, one value for each iteration\n",
    "        costs: list oft costs, one value for each iteration.\n",
    "    '''\n",
    "    raise NotImplementedError(\"You should implement this!\")"
   ]
  },
  {
   "cell_type": "code",
   "execution_count": null,
   "metadata": {},
   "outputs": [],
   "source": [
    "cost_hist, t0_hist, t1_hist = gradient_descent(x, y, iterations=250, learning_rate=0.0003, verbose=True)"
   ]
  },
  {
   "cell_type": "markdown",
   "metadata": {
    "slideshow": {
     "slide_type": "slide"
    }
   },
   "source": [
    "###  Model and Training Evaluation\n",
    "Now visualize the training process by plotting the `cost_hist` as a curve. Also, create a plot that shows the decision boundary of your final hypothesis (model) inside your data. Your plots should look like:\n",
    "\n",
    "![internet connection needed](https://gitlab.com/deep.TEACHING/educational-materials/raw/dev/media/voigt/images/Simple-Linear-Regression_Decision-Boundary.png)"
   ]
  },
  {
   "cell_type": "code",
   "execution_count": null,
   "metadata": {
    "slideshow": {
     "slide_type": "slide"
    }
   },
   "outputs": [],
   "source": [
    "def evaluation_plt(cost_hist, theta_0, theta_1, x, y):\n",
    "    ''' Plots a cost curve and the decision boundary\n",
    "    \n",
    "    The Method plots a cost curve from a given training process (cost_hist). \n",
    "    It also plots the data set (x,y) and draws a linear decision boundary \n",
    "    with the parameters theta_0 and theta_1 into the plotted data set.\n",
    "    \n",
    "    Args:\n",
    "        cost_hist: vector, history of all cost values from a opitmization\n",
    "        theta_0: scalar, model parameter for boundary\n",
    "        theta_1: scalar, model parameter for boundary\n",
    "        x: vector, x values from the data set\n",
    "        y: vector, y values from the data set\n",
    "    '''\n",
    "    raise NotImplementedError(\"You should implement this!\")"
   ]
  },
  {
   "cell_type": "code",
   "execution_count": null,
   "metadata": {},
   "outputs": [],
   "source": [
    "evaluation_plt(cost_hist, t0_hist[-1], t1_hist[-1], x, y)"
   ]
  },
  {
   "cell_type": "markdown",
   "metadata": {
    "slideshow": {
     "slide_type": "slide"
    }
   },
   "source": [
    "### Optimize Hyperparameter\n",
    "In machine learning, hyperparameters are parameters whose values are set before starting the training process of the model. The learning rate is a hyperparameter, and it is a crucial parameter in the context of optimization with first-order methods in supervised learning. It can easily happen that your model does not learn if you have chosen an unsuited learning rate. To find a suitable learning rate for your problem, you need to try different ones. Implement a function `optimize_learning_rate` that trains your model with different learning rates and plots the different cost histories. Try to identify edge cases, e.g., cases when the learning rate is too high or too low, to develop a better feeling for the learning rate problem. Your plot could look like this:\n",
    "\n",
    "![internet connection needed](https://gitlab.com/deep.TEACHING/educational-materials/raw/dev/media/voigt/images/Simple-Linear-Regression_Learning-Rates.png)"
   ]
  },
  {
   "cell_type": "code",
   "execution_count": null,
   "metadata": {
    "slideshow": {
     "slide_type": "slide"
    }
   },
   "outputs": [],
   "source": [
    "def optimize_learning_rate(learning_rates, x, y):\n",
    "    ''' Train a model with diffrent learning rates and plots the costs\n",
    "    \n",
    "    Args:\n",
    "        learning_rates: vector, learning rates used to train a linear model\n",
    "        x: vector, x values from the data set\n",
    "        y: vector, y values from the data set\n",
    "    '''    \n",
    "    raise NotImplementedError(\"You should implement this!\")"
   ]
  },
  {
   "cell_type": "code",
   "execution_count": null,
   "metadata": {},
   "outputs": [],
   "source": [
    "potential_lr = np.array([0.0001, 0.0007, 0.001, 0.007, .01, .0588, .05899])\n",
    "optimize_learning_rate(potential_lr, x, y)"
   ]
  },
  {
   "cell_type": "markdown",
   "metadata": {
    "slideshow": {
     "slide_type": "slide"
    }
   },
   "source": [
    "## Summary and Outlook\n",
    "\n",
    "During this exercise, fundamental elements of Machine Learning were covered. You should be able to answer the following questions:\n",
    "- What is a model using the example of a linear function as a hypothesis?\n",
    "- How do you quantify a model?\n",
    "- What is the gradient descent algorithm and what is its used for in the context of Machine Learning?\n",
    "- Can you explain the concept of hyperparameters and name some?"
   ]
  },
  {
   "cell_type": "markdown",
   "metadata": {
    "slideshow": {
     "slide_type": "slide"
    }
   },
   "source": [
    "## Licenses\n",
    "\n",
    "### Notebook License (CC-BY-SA 4.0)\n",
    "\n",
    "*The following license applies to the complete notebook, including code cells. It does however not apply to any referenced external media (e.g., images).*\n",
    "\n",
    "Exercise: Simple Linear Regression <br/>\n",
    "by Christian Herta, Benjamin Voigt, Klaus Strohmenger <br/>\n",
    "is licensed under a [Creative Commons Attribution-ShareAlike 4.0 International License](http://creativecommons.org/licenses/by-sa/4.0/).<br/>\n",
    "Based on a work at https://gitlab.com/deep.TEACHING.\n",
    "\n",
    "\n",
    "### Code License (MIT)\n",
    "\n",
    "*The following license only applies to code cells of the notebook.*\n",
    "\n",
    "Copyright 2018 Christian Herta, Benjamin Voigt, Klaus Strohmenger\n",
    "\n",
    "Permission is hereby granted, free of charge, to any person obtaining a copy of this software and associated documentation files (the \"Software\"), to deal in the Software without restriction, including without limitation the rights to use, copy, modify, merge, publish, distribute, sublicense, and/or sell copies of the Software, and to permit persons to whom the Software is furnished to do so, subject to the following conditions:\n",
    "\n",
    "The above copyright notice and this permission notice shall be included in all copies or substantial portions of the Software.\n",
    "\n",
    "THE SOFTWARE IS PROVIDED \"AS IS\", WITHOUT WARRANTY OF ANY KIND, EXPRESS OR IMPLIED, INCLUDING BUT NOT LIMITED TO THE WARRANTIES OF MERCHANTABILITY, FITNESS FOR A PARTICULAR PURPOSE AND NONINFRINGEMENT. IN NO EVENT SHALL THE AUTHORS OR COPYRIGHT HOLDERS BE LIABLE FOR ANY CLAIM, DAMAGES OR OTHER LIABILITY, WHETHER IN AN ACTION OF CONTRACT, TORT OR OTHERWISE, ARISING FROM, OUT OF OR IN CONNECTION WITH THE SOFTWARE OR THE USE OR OTHER DEALINGS IN THE SOFTWARE."
   ]
  },
  {
   "cell_type": "code",
   "execution_count": null,
   "metadata": {},
   "outputs": [],
   "source": []
  }
 ],
 "metadata": {
  "celltoolbar": "Slideshow",
  "kernelspec": {
   "display_name": "Python 3",
   "language": "python",
   "name": "python3"
  },
  "language_info": {
   "codemirror_mode": {
    "name": "ipython",
    "version": 3
   },
   "file_extension": ".py",
   "mimetype": "text/x-python",
   "name": "python",
   "nbconvert_exporter": "python",
   "pygments_lexer": "ipython3",
   "version": "3.7.4"
  }
 },
 "nbformat": 4,
 "nbformat_minor": 2
}
